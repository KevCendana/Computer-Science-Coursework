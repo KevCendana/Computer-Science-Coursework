{
 "cells": [
  {
   "cell_type": "code",
   "execution_count": 16,
   "id": "55ba56c5-8693-4b33-9494-839f0bb82ce9",
   "metadata": {},
   "outputs": [
    {
     "name": "stdout",
     "output_type": "stream",
     "text": [
      "Male                  59.634146\n",
      "Female                34.105691\n",
      "I'd rather not say     3.373984\n",
      "NaN                    1.666667\n",
      "Other                  1.219512\n",
      "Name: Q2: GENDER, dtype: float64\n"
     ]
    }
   ],
   "source": [
    "import pandas as pd\n",
    "df = pd.read_csv(\"candyhierarchy2017.csv\", encoding='ISO-8859-1')\n",
    "\n",
    "percentages = df['Q1: GOING OUT?'].value_counts(normalize=True, dropna=False) * 100\n",
    "percentages = df['Q2: GENDER'].value_counts(normalize=True, dropna=False) * 100\n",
    "print(percentages)"
   ]
  },
  {
   "cell_type": "code",
   "execution_count": 17,
   "id": "10d76fb5-5ae2-4bfd-ac1a-2e69e1c817c1",
   "metadata": {},
   "outputs": [],
   "source": [
    "# print(df.columns); \n",
    "# Candy DF columns: \n",
    "# Index(['Internal ID', 'Q1: GOING OUT?', 'Q2: GENDER', 'Q3: AGE', 'Q4: COUNTRY',\n",
    "#        'Q5: STATE, PROVINCE, COUNTY, ETC', 'Q6 | 100 Grand Bar',\n",
    "#        'Q6 | Anonymous brown globs that come in black and orange wrappers\\t(a.k.a. Mary Janes)',\n",
    "#        'Q6 | Any full-sized candy bar', 'Q6 | Black Jacks',\n",
    "#        ...\n",
    "#        'Q8: DESPAIR OTHER', 'Q9: OTHER COMMENTS', 'Q10: DRESS', 'Unnamed: 113',\n",
    "#        'Q11: DAY', 'Q12: MEDIA [Daily Dish]', 'Q12: MEDIA [Science]',\n",
    "#        'Q12: MEDIA [ESPN]', 'Q12: MEDIA [Yahoo]', 'Click Coordinates (x, y)'],\n",
    "#       dtype='object', length=120)"
   ]
  },
  {
   "cell_type": "code",
   "execution_count": 3,
   "id": "5a6b7aa3-2c42-4a3a-8aa4-249781b3a968",
   "metadata": {},
   "outputs": [
    {
     "name": "stdout",
     "output_type": "stream",
     "text": [
      "dict_keys(['MI', 'MN', 'TX', 'CA'])\n"
     ]
    }
   ],
   "source": [
    "abbrev = {}\n",
    "abbrev['MI'] = \"Michigan\"\n",
    "abbrev['MN'] = \"Minnesota\"\n",
    "abbrev['TX'] = \"Texas\"\n",
    "abbrev['CA'] = \"California\"\n",
    "\n",
    "print(abbrev.keys()) "
   ]
  },
  {
   "cell_type": "code",
   "execution_count": 4,
   "id": "6abac720-d048-4f97-8885-c9ef040f38ac",
   "metadata": {},
   "outputs": [
    {
     "name": "stdout",
     "output_type": "stream",
     "text": [
      "[3, 4, 2, 10]\n"
     ]
    }
   ],
   "source": [
    "fruits = {'apples': 3, 'oranges': 4, 'bananas': 2, 'cherries': 10}\n",
    "fruitnames = [v for (k,v) in fruits.items()]\n",
    "print(fruitnames)"
   ]
  }
 ],
 "metadata": {
  "kernelspec": {
   "display_name": "Python 3 (ipykernel)",
   "language": "python",
   "name": "python3"
  },
  "language_info": {
   "codemirror_mode": {
    "name": "ipython",
    "version": 3
   },
   "file_extension": ".py",
   "mimetype": "text/x-python",
   "name": "python",
   "nbconvert_exporter": "python",
   "pygments_lexer": "ipython3",
   "version": "3.10.9"
  }
 },
 "nbformat": 4,
 "nbformat_minor": 5
}
