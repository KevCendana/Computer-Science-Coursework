{
 "cells": [
  {
   "cell_type": "code",
   "execution_count": 47,
   "id": "f4ef1799-168f-4e56-89ee-3a70e2be6832",
   "metadata": {
    "tags": []
   },
   "outputs": [],
   "source": [
    "# Assignment 1\n",
    "# Design data chart, explain design choices\n",
    "# Make static image, short write up (< 4 paragraphs)\n",
    "# Choose a question our visualization could answer\n",
    "# You can transform the data if you want\n",
    "# Data columns used: \n",
    "    # college, department, subject, course, course description, course division, course units,\n",
    "    # terms offered, total enrollment, avg enrollment per term, fall terms (% per enrollment),\n",
    "    # spring terms, all, female, pell, not pell\n",
    "    # then a bunch of races are listed as columns, 1st gen\n",
    "\n",
    "# Ideas for Questions:\n",
    "    # YOOO USE THIS ONE: Question:****************** \n",
    "    #How do the DFW rates and equity gaps differ b/t STEM courses and non-STEM courses?\n",
    "# Design Ideas\n",
    "    # Chart Type: A grouped bar chart or a stacked bar chart can effectively \n",
    "    # compare the DFW rates and equity gaps between STEM and non-STEM courses.\n",
    "# Probably use these columns: department, course, dfw rates, equity gaps"
   ]
  },
  {
   "cell_type": "code",
   "execution_count": 1,
   "id": "2dd24fe7-f6f4-48c7-9237-29f9ff86c585",
   "metadata": {
    "collapsed": true,
    "jupyter": {
     "outputs_hidden": true
    },
    "tags": []
   },
   "outputs": [
    {
     "name": "stdout",
     "output_type": "stream",
     "text": [
      "Requirement already satisfied: pandas in /Users/home/anaconda3/lib/python3.10/site-packages (2.0.2)\n",
      "Requirement already satisfied: numpy>=1.21.0 in /Users/home/anaconda3/lib/python3.10/site-packages (from pandas) (1.24.3)\n",
      "Requirement already satisfied: python-dateutil>=2.8.2 in /Users/home/anaconda3/lib/python3.10/site-packages (from pandas) (2.8.2)\n",
      "Requirement already satisfied: tzdata>=2022.1 in /Users/home/anaconda3/lib/python3.10/site-packages (from pandas) (2023.3)\n",
      "Requirement already satisfied: pytz>=2020.1 in /Users/home/anaconda3/lib/python3.10/site-packages (from pandas) (2022.7)\n",
      "Requirement already satisfied: six>=1.5 in /Users/home/anaconda3/lib/python3.10/site-packages (from python-dateutil>=2.8.2->pandas) (1.16.0)\n",
      "Note: you may need to restart the kernel to use updated packages.\n",
      "Requirement already satisfied: matplotlib in /Users/home/anaconda3/lib/python3.10/site-packages (3.7.1)\n",
      "Requirement already satisfied: numpy>=1.20 in /Users/home/anaconda3/lib/python3.10/site-packages (from matplotlib) (1.24.3)\n",
      "Requirement already satisfied: pyparsing>=2.3.1 in /Users/home/anaconda3/lib/python3.10/site-packages (from matplotlib) (3.0.9)\n",
      "Requirement already satisfied: packaging>=20.0 in /Users/home/anaconda3/lib/python3.10/site-packages (from matplotlib) (23.0)\n",
      "Requirement already satisfied: contourpy>=1.0.1 in /Users/home/anaconda3/lib/python3.10/site-packages (from matplotlib) (1.0.5)\n",
      "Requirement already satisfied: python-dateutil>=2.7 in /Users/home/anaconda3/lib/python3.10/site-packages (from matplotlib) (2.8.2)\n",
      "Requirement already satisfied: kiwisolver>=1.0.1 in /Users/home/anaconda3/lib/python3.10/site-packages (from matplotlib) (1.4.4)\n",
      "Requirement already satisfied: pillow>=6.2.0 in /Users/home/anaconda3/lib/python3.10/site-packages (from matplotlib) (9.4.0)\n",
      "Requirement already satisfied: cycler>=0.10 in /Users/home/anaconda3/lib/python3.10/site-packages (from matplotlib) (0.11.0)\n",
      "Requirement already satisfied: fonttools>=4.22.0 in /Users/home/anaconda3/lib/python3.10/site-packages (from matplotlib) (4.25.0)\n",
      "Requirement already satisfied: six>=1.5 in /Users/home/anaconda3/lib/python3.10/site-packages (from python-dateutil>=2.7->matplotlib) (1.16.0)\n",
      "Note: you may need to restart the kernel to use updated packages.\n",
      "hello world\n"
     ]
    }
   ],
   "source": [
    "#In your write-up, you should provide a rigorous rationale \n",
    "#for your design decisions. Document the visual encodings \n",
    "#you used and why they are appropriate for the data and your \n",
    "#specific question. These decisions include the choice of \n",
    "#visualization type, size, color, scale, and other visual \n",
    "#elements, as well as the use of sorting or other data \n",
    "#transformations. How do these decisions facilitate effective \n",
    "#communication?\n",
    "%pip install pandas\n",
    "%pip install matplotlib\n",
    "print('hello world')\n",
    "\n",
    "# Data Cleaning\n",
    "#df = df.replace(',+', ',', regex=True) # Remove any consecutive commas \n",
    "#df = df.apply(lambda x: x.str.strip() if x.dtype == \"object\" else x) # Remove any whitespace df = df.dropna() # Drop any null / empty / NaN values\n",
    "\n",
    "# ['College', 'Department', 'Subject', 'Course', 'Course Description', \n",
    "'Course Division', 'Course Units', 'Terms Offered', 'Total Enrollment', \n",
    "'Avg Enrollment per Term', 'Fall Terms', 'Spring Terms', 'All', 'Female', \n",
    "'Male', 'Not Pell', 'Pell', 'African American', 'Asian', 'Hispanic', \n",
    "'Native American', 'Pacific Islander', 'Two or More Races', 'White', \n",
    "'Non-URM', 'URM', 'First generation', 'Not first generation', 'Male.1',\n",
    "'Pell.1', 'African American.1', 'Asian.1', 'Hispanic.1', 'Native American.1', '\n",
    "Pacific Islander.1', 'Two or More Races.1', 'URM.1', 'First generation.1', \n",
    "'Female.1', 'Male.2', 'Pell.2', 'African American.2', 'Asian.2', 'Hispanic.2',\n",
    "'Native American.2', 'Pacific Islander.2', 'Two or More Races.2', 'White.1', '\n",
    "Non-URM.1', 'URM.2', 'First generation.2', 'Unnamed: 51']\n",
    "\n",
    "\n",
    "# plan: find the % of pell grant eligible and % of first gen student per department.\n",
    "# then do the same for stem / non stem\n",
    "# display them all (bar graph maybe?) by having 4 bars per department (1 for pell and 1 for first gen for stem, repeat for non stem)\n",
    "    # label the two bar graphs below with their \"department\" column name (should be 3-4 chars)\n",
    "    # have the stem bar graphs overlap with the non stem ones by giving them a different color"
   ]
  },
  {
   "cell_type": "code",
   "execution_count": 5,
   "id": "995a89a6-504c-4a84-ab23-41db7016c6c3",
   "metadata": {},
   "outputs": [
    {
     "name": "stdout",
     "output_type": "stream",
     "text": [
      "['\\ufeffDFW data by course for Fall 2020 - Spring 2022', '', '', '', '', '', '', '', '', '', '', '', '', '', '', '', '', '', '', '', '', '', '', '', '', '', '', '', '', '', '', '', '', '', '', '', '', '', '', '', '', '', '', '', '', '', '', '', '', '', '', '']\n",
      "['Highlighted courses mean enrollment per term >= 20 and DFW rate >= 20% (red) or between 15% and 20% (yellow).', '', '', '', '', '', '', '', '', '', '', '', '', '', '', '', '', '', '', '', '', '', '', '', '', '', '', '', '', '', '', '', '', '', '', '', '', '', '', '', '', '', '', '', '', '', '', '', '', '', '', '']\n",
      "['', '', '', '', '', '', '', '', '', '', '% of enrolled students who are repeating', '', 'DFW Rate', '', '', '', '', '', '', '', '', '', '', '', '', '', '', '', 'DFW equity gap (in percentage points)\\ncompared to Female, Not Pell, White, Non-URM, and Not first generation, respectively.\\nPositive equity gap means the given group has a higher DFW rate than the comparison group', '', '', '', '', '', '', '', '', '', \"Each group's percent of total course enrollment\", '', '', '', '', '', '', '', '', '', '', '', '', '']\n",
      "['College', 'Department', 'Subject', 'Course', 'Course Description', 'Course Division', 'Course Units', 'Terms Offered', 'Total Enrollment', 'Avg Enrollment per Term', 'Fall Terms', 'Spring Terms', 'All', 'Female', 'Male', 'Not Pell', 'Pell', 'African American', 'Asian', 'Hispanic', 'Native American', 'Pacific Islander', 'Two or More Races', 'White', 'Non-URM', 'URM', 'First generation', 'Not first generation', 'Male', 'Pell', 'African American', 'Asian', 'Hispanic', 'Native American', 'Pacific Islander', 'Two or More Races', 'URM', 'First generation', 'Female', 'Male', 'Pell', 'African American', 'Asian', 'Hispanic', 'Native American', 'Pacific Islander', 'Two or More Races', 'White', 'Non-URM', 'URM', 'First generation', '']\n"
     ]
    }
   ],
   "source": [
    "import csv\n",
    "\n",
    "with open(\"DFW rate and equity gaps by course 2022-08-08.csv\", \"r\") as file:\n",
    "    reader = csv.reader(file)\n",
    "    for i, row in enumerate(reader):\n",
    "        print(row)\n",
    "        if i == 3:\n",
    "            break"
   ]
  },
  {
   "cell_type": "code",
   "execution_count": 3,
   "id": "9eddddad-5769-4bc4-9333-393ddb542f07",
   "metadata": {},
   "outputs": [
    {
     "ename": "NameError",
     "evalue": "name 'plt' is not defined",
     "output_type": "error",
     "traceback": [
      "\u001b[0;31m---------------------------------------------------------------------------\u001b[0m",
      "\u001b[0;31mNameError\u001b[0m                                 Traceback (most recent call last)",
      "Cell \u001b[0;32mIn[3], line 3\u001b[0m\n\u001b[1;32m      1\u001b[0m \u001b[38;5;28;01mimport\u001b[39;00m \u001b[38;5;21;01mmatplotlib\u001b[39;00m\u001b[38;5;21;01m.\u001b[39;00m\u001b[38;5;21;01mgridspec\u001b[39;00m \u001b[38;5;28;01mas\u001b[39;00m \u001b[38;5;21;01mgridspec\u001b[39;00m\n\u001b[0;32m----> 3\u001b[0m fig \u001b[38;5;241m=\u001b[39m \u001b[43mplt\u001b[49m\u001b[38;5;241m.\u001b[39mfigure(figsize\u001b[38;5;241m=\u001b[39m(\u001b[38;5;241m15\u001b[39m, \u001b[38;5;241m18\u001b[39m))\n\u001b[1;32m      5\u001b[0m gs \u001b[38;5;241m=\u001b[39m gridspec\u001b[38;5;241m.\u001b[39mGridSpec(\u001b[38;5;241m2\u001b[39m, \u001b[38;5;241m2\u001b[39m, width_ratios\u001b[38;5;241m=\u001b[39m[\u001b[38;5;241m3\u001b[39m, \u001b[38;5;241m1\u001b[39m]) \n\u001b[1;32m      6\u001b[0m ax0 \u001b[38;5;241m=\u001b[39m plt\u001b[38;5;241m.\u001b[39msubplot(gs[\u001b[38;5;241m0\u001b[39m])\n",
      "\u001b[0;31mNameError\u001b[0m: name 'plt' is not defined"
     ]
    }
   ],
   "source": [
    "import matplotlib.gridspec as gridspec\n",
    "\n",
    "fig = plt.figure(figsize=(15, 18))\n",
    "\n",
    "gs = gridspec.GridSpec(2, 2, width_ratios=[3, 1]) \n",
    "ax0 = plt.subplot(gs[0])\n",
    "ax1 = plt.subplot(gs[1])\n",
    "ax2 = plt.subplot(gs[2])\n",
    "\n",
    "# stem graph\n",
    "grouped_stem_df.plot(kind='bar', ax=ax0, color=['#87CEEB', '#0000CD'], alpha=0.7)\n",
    "ax0.set_title('Comparison of Pell and First Generation Students in STEM Courses')\n",
    "ax0.set_xlabel('Course')\n",
    "ax0.set_ylabel('Mean Value')\n",
    "\n",
    "# non - stem graph\n",
    "grouped_non_stem_df.plot(kind='bar', ax=ax2, color=['#87CEEB', '#0000CD'], alpha=0.7)\n",
    "ax2.set_title('Comparison of Pell and First Generation Students in Non-STEM Courses')\n",
    "ax2.set_xlabel('Course')\n",
    "ax2.set_ylabel('Mean Value')\n",
    "ax2.tick_params(axis='x', labelsize=8) # this line changes the x-axis label size\n",
    "ax1.set_ylim(0, 0.14) # set the y limit to 0.14 so it's the same cap as the stem graph\n",
    "\n",
    "# calculate average 'Pell' and 'First generation' for non-STEM subjects\n",
    "non_stem_avg = grouped_non_stem_df.mean()\n",
    "non_stem_avg = non_stem_avg.to_frame().transpose()\n",
    "\n",
    "# plot average non-STEM 'Pell' and 'First generation' values graph\n",
    "non_stem_avg.plot(kind='bar', ax=ax1, color=['#D8BFD8', '#9370DB'], alpha=0.7)\n",
    "ax1.set_title('Average Pell and First Generation Students in Non-STEM Courses')\n",
    "ax1.set_xlabel('Course')\n",
    "ax1.set_ylabel('Mean Value')\n",
    "\n",
    "plt.tight_layout()\n",
    "plt.show()"
   ]
  }
 ],
 "metadata": {
  "kernelspec": {
   "display_name": "Python 3 (ipykernel)",
   "language": "python",
   "name": "python3"
  },
  "language_info": {
   "codemirror_mode": {
    "name": "ipython",
    "version": 3
   },
   "file_extension": ".py",
   "mimetype": "text/x-python",
   "name": "python",
   "nbconvert_exporter": "python",
   "pygments_lexer": "ipython3",
   "version": "3.10.9"
  }
 },
 "nbformat": 4,
 "nbformat_minor": 5
}
